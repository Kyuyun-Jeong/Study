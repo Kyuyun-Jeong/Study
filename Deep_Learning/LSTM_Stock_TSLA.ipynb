{
  "nbformat": 4,
  "nbformat_minor": 0,
  "metadata": {
    "colab": {
      "provenance": [],
      "authorship_tag": "ABX9TyN5ztmQ77d4x1wKRP/OMgRZ"
    },
    "kernelspec": {
      "name": "python3",
      "display_name": "Python 3"
    },
    "language_info": {
      "name": "python"
    }
  },
  "cells": [
    {
      "cell_type": "code",
      "execution_count": null,
      "metadata": {
        "id": "J5ETAHe3HNqW"
      },
      "outputs": [],
      "source": [
        "import numpy as np\n",
        "import pandas as pd\n",
        "import matplotlib.pyplot as plt\n",
        "\n",
        "import torch\n",
        "import torch.nn as nn\n",
        "\n",
        "from sklearn.preprocessing import MinMaxScaler\n",
        "from sklearn.metrics import mean_squared_error\n",
        "\n",
        "import yfinance as yf"
      ]
    },
    {
      "cell_type": "code",
      "source": [
        "ticker = yf.Ticker(\"TSLA\")\n",
        "\n",
        "start_date = \"2018-01-01\"\n",
        "end_date = \"2023-12-31\"\n",
        "\n",
        "df = ticker.history(start=start_date, end=end_date)\n",
        "df.head()"
      ],
      "metadata": {
        "colab": {
          "base_uri": "https://localhost:8080/",
          "height": 235
        },
        "id": "Oip6R6AMHQcb",
        "outputId": "964dc87d-a18d-4bca-8641-253c825e49db"
      },
      "execution_count": null,
      "outputs": [
        {
          "output_type": "execute_result",
          "data": {
            "text/plain": [
              "                                Open       High        Low      Close  \\\n",
              "Date                                                                    \n",
              "2018-01-02 00:00:00-05:00  20.799999  21.474001  20.733334  21.368668   \n",
              "2018-01-03 00:00:00-05:00  21.400000  21.683332  21.036667  21.150000   \n",
              "2018-01-04 00:00:00-05:00  20.858000  21.236668  20.378668  20.974667   \n",
              "2018-01-05 00:00:00-05:00  21.108000  21.149332  20.799999  21.105333   \n",
              "2018-01-08 00:00:00-05:00  21.066668  22.468000  21.033333  22.427334   \n",
              "\n",
              "                              Volume  Dividends  Stock Splits  \n",
              "Date                                                           \n",
              "2018-01-02 00:00:00-05:00   65283000        0.0           0.0  \n",
              "2018-01-03 00:00:00-05:00   67822500        0.0           0.0  \n",
              "2018-01-04 00:00:00-05:00  149194500        0.0           0.0  \n",
              "2018-01-05 00:00:00-05:00   68868000        0.0           0.0  \n",
              "2018-01-08 00:00:00-05:00  147891000        0.0           0.0  "
            ],
            "text/html": [
              "\n",
              "  <div id=\"df-47745430-7f52-48c3-8bc6-4be265f1b7d6\" class=\"colab-df-container\">\n",
              "    <div>\n",
              "<style scoped>\n",
              "    .dataframe tbody tr th:only-of-type {\n",
              "        vertical-align: middle;\n",
              "    }\n",
              "\n",
              "    .dataframe tbody tr th {\n",
              "        vertical-align: top;\n",
              "    }\n",
              "\n",
              "    .dataframe thead th {\n",
              "        text-align: right;\n",
              "    }\n",
              "</style>\n",
              "<table border=\"1\" class=\"dataframe\">\n",
              "  <thead>\n",
              "    <tr style=\"text-align: right;\">\n",
              "      <th></th>\n",
              "      <th>Open</th>\n",
              "      <th>High</th>\n",
              "      <th>Low</th>\n",
              "      <th>Close</th>\n",
              "      <th>Volume</th>\n",
              "      <th>Dividends</th>\n",
              "      <th>Stock Splits</th>\n",
              "    </tr>\n",
              "    <tr>\n",
              "      <th>Date</th>\n",
              "      <th></th>\n",
              "      <th></th>\n",
              "      <th></th>\n",
              "      <th></th>\n",
              "      <th></th>\n",
              "      <th></th>\n",
              "      <th></th>\n",
              "    </tr>\n",
              "  </thead>\n",
              "  <tbody>\n",
              "    <tr>\n",
              "      <th>2018-01-02 00:00:00-05:00</th>\n",
              "      <td>20.799999</td>\n",
              "      <td>21.474001</td>\n",
              "      <td>20.733334</td>\n",
              "      <td>21.368668</td>\n",
              "      <td>65283000</td>\n",
              "      <td>0.0</td>\n",
              "      <td>0.0</td>\n",
              "    </tr>\n",
              "    <tr>\n",
              "      <th>2018-01-03 00:00:00-05:00</th>\n",
              "      <td>21.400000</td>\n",
              "      <td>21.683332</td>\n",
              "      <td>21.036667</td>\n",
              "      <td>21.150000</td>\n",
              "      <td>67822500</td>\n",
              "      <td>0.0</td>\n",
              "      <td>0.0</td>\n",
              "    </tr>\n",
              "    <tr>\n",
              "      <th>2018-01-04 00:00:00-05:00</th>\n",
              "      <td>20.858000</td>\n",
              "      <td>21.236668</td>\n",
              "      <td>20.378668</td>\n",
              "      <td>20.974667</td>\n",
              "      <td>149194500</td>\n",
              "      <td>0.0</td>\n",
              "      <td>0.0</td>\n",
              "    </tr>\n",
              "    <tr>\n",
              "      <th>2018-01-05 00:00:00-05:00</th>\n",
              "      <td>21.108000</td>\n",
              "      <td>21.149332</td>\n",
              "      <td>20.799999</td>\n",
              "      <td>21.105333</td>\n",
              "      <td>68868000</td>\n",
              "      <td>0.0</td>\n",
              "      <td>0.0</td>\n",
              "    </tr>\n",
              "    <tr>\n",
              "      <th>2018-01-08 00:00:00-05:00</th>\n",
              "      <td>21.066668</td>\n",
              "      <td>22.468000</td>\n",
              "      <td>21.033333</td>\n",
              "      <td>22.427334</td>\n",
              "      <td>147891000</td>\n",
              "      <td>0.0</td>\n",
              "      <td>0.0</td>\n",
              "    </tr>\n",
              "  </tbody>\n",
              "</table>\n",
              "</div>\n",
              "    <div class=\"colab-df-buttons\">\n",
              "\n",
              "  <div class=\"colab-df-container\">\n",
              "    <button class=\"colab-df-convert\" onclick=\"convertToInteractive('df-47745430-7f52-48c3-8bc6-4be265f1b7d6')\"\n",
              "            title=\"Convert this dataframe to an interactive table.\"\n",
              "            style=\"display:none;\">\n",
              "\n",
              "  <svg xmlns=\"http://www.w3.org/2000/svg\" height=\"24px\" viewBox=\"0 -960 960 960\">\n",
              "    <path d=\"M120-120v-720h720v720H120Zm60-500h600v-160H180v160Zm220 220h160v-160H400v160Zm0 220h160v-160H400v160ZM180-400h160v-160H180v160Zm440 0h160v-160H620v160ZM180-180h160v-160H180v160Zm440 0h160v-160H620v160Z\"/>\n",
              "  </svg>\n",
              "    </button>\n",
              "\n",
              "  <style>\n",
              "    .colab-df-container {\n",
              "      display:flex;\n",
              "      gap: 12px;\n",
              "    }\n",
              "\n",
              "    .colab-df-convert {\n",
              "      background-color: #E8F0FE;\n",
              "      border: none;\n",
              "      border-radius: 50%;\n",
              "      cursor: pointer;\n",
              "      display: none;\n",
              "      fill: #1967D2;\n",
              "      height: 32px;\n",
              "      padding: 0 0 0 0;\n",
              "      width: 32px;\n",
              "    }\n",
              "\n",
              "    .colab-df-convert:hover {\n",
              "      background-color: #E2EBFA;\n",
              "      box-shadow: 0px 1px 2px rgba(60, 64, 67, 0.3), 0px 1px 3px 1px rgba(60, 64, 67, 0.15);\n",
              "      fill: #174EA6;\n",
              "    }\n",
              "\n",
              "    .colab-df-buttons div {\n",
              "      margin-bottom: 4px;\n",
              "    }\n",
              "\n",
              "    [theme=dark] .colab-df-convert {\n",
              "      background-color: #3B4455;\n",
              "      fill: #D2E3FC;\n",
              "    }\n",
              "\n",
              "    [theme=dark] .colab-df-convert:hover {\n",
              "      background-color: #434B5C;\n",
              "      box-shadow: 0px 1px 3px 1px rgba(0, 0, 0, 0.15);\n",
              "      filter: drop-shadow(0px 1px 2px rgba(0, 0, 0, 0.3));\n",
              "      fill: #FFFFFF;\n",
              "    }\n",
              "  </style>\n",
              "\n",
              "    <script>\n",
              "      const buttonEl =\n",
              "        document.querySelector('#df-47745430-7f52-48c3-8bc6-4be265f1b7d6 button.colab-df-convert');\n",
              "      buttonEl.style.display =\n",
              "        google.colab.kernel.accessAllowed ? 'block' : 'none';\n",
              "\n",
              "      async function convertToInteractive(key) {\n",
              "        const element = document.querySelector('#df-47745430-7f52-48c3-8bc6-4be265f1b7d6');\n",
              "        const dataTable =\n",
              "          await google.colab.kernel.invokeFunction('convertToInteractive',\n",
              "                                                    [key], {});\n",
              "        if (!dataTable) return;\n",
              "\n",
              "        const docLinkHtml = 'Like what you see? Visit the ' +\n",
              "          '<a target=\"_blank\" href=https://colab.research.google.com/notebooks/data_table.ipynb>data table notebook</a>'\n",
              "          + ' to learn more about interactive tables.';\n",
              "        element.innerHTML = '';\n",
              "        dataTable['output_type'] = 'display_data';\n",
              "        await google.colab.output.renderOutput(dataTable, element);\n",
              "        const docLink = document.createElement('div');\n",
              "        docLink.innerHTML = docLinkHtml;\n",
              "        element.appendChild(docLink);\n",
              "      }\n",
              "    </script>\n",
              "  </div>\n",
              "\n",
              "\n",
              "<div id=\"df-fb047eb8-c849-498f-9a96-a14a5ec414aa\">\n",
              "  <button class=\"colab-df-quickchart\" onclick=\"quickchart('df-fb047eb8-c849-498f-9a96-a14a5ec414aa')\"\n",
              "            title=\"Suggest charts\"\n",
              "            style=\"display:none;\">\n",
              "\n",
              "<svg xmlns=\"http://www.w3.org/2000/svg\" height=\"24px\"viewBox=\"0 0 24 24\"\n",
              "     width=\"24px\">\n",
              "    <g>\n",
              "        <path d=\"M19 3H5c-1.1 0-2 .9-2 2v14c0 1.1.9 2 2 2h14c1.1 0 2-.9 2-2V5c0-1.1-.9-2-2-2zM9 17H7v-7h2v7zm4 0h-2V7h2v10zm4 0h-2v-4h2v4z\"/>\n",
              "    </g>\n",
              "</svg>\n",
              "  </button>\n",
              "\n",
              "<style>\n",
              "  .colab-df-quickchart {\n",
              "      --bg-color: #E8F0FE;\n",
              "      --fill-color: #1967D2;\n",
              "      --hover-bg-color: #E2EBFA;\n",
              "      --hover-fill-color: #174EA6;\n",
              "      --disabled-fill-color: #AAA;\n",
              "      --disabled-bg-color: #DDD;\n",
              "  }\n",
              "\n",
              "  [theme=dark] .colab-df-quickchart {\n",
              "      --bg-color: #3B4455;\n",
              "      --fill-color: #D2E3FC;\n",
              "      --hover-bg-color: #434B5C;\n",
              "      --hover-fill-color: #FFFFFF;\n",
              "      --disabled-bg-color: #3B4455;\n",
              "      --disabled-fill-color: #666;\n",
              "  }\n",
              "\n",
              "  .colab-df-quickchart {\n",
              "    background-color: var(--bg-color);\n",
              "    border: none;\n",
              "    border-radius: 50%;\n",
              "    cursor: pointer;\n",
              "    display: none;\n",
              "    fill: var(--fill-color);\n",
              "    height: 32px;\n",
              "    padding: 0;\n",
              "    width: 32px;\n",
              "  }\n",
              "\n",
              "  .colab-df-quickchart:hover {\n",
              "    background-color: var(--hover-bg-color);\n",
              "    box-shadow: 0 1px 2px rgba(60, 64, 67, 0.3), 0 1px 3px 1px rgba(60, 64, 67, 0.15);\n",
              "    fill: var(--button-hover-fill-color);\n",
              "  }\n",
              "\n",
              "  .colab-df-quickchart-complete:disabled,\n",
              "  .colab-df-quickchart-complete:disabled:hover {\n",
              "    background-color: var(--disabled-bg-color);\n",
              "    fill: var(--disabled-fill-color);\n",
              "    box-shadow: none;\n",
              "  }\n",
              "\n",
              "  .colab-df-spinner {\n",
              "    border: 2px solid var(--fill-color);\n",
              "    border-color: transparent;\n",
              "    border-bottom-color: var(--fill-color);\n",
              "    animation:\n",
              "      spin 1s steps(1) infinite;\n",
              "  }\n",
              "\n",
              "  @keyframes spin {\n",
              "    0% {\n",
              "      border-color: transparent;\n",
              "      border-bottom-color: var(--fill-color);\n",
              "      border-left-color: var(--fill-color);\n",
              "    }\n",
              "    20% {\n",
              "      border-color: transparent;\n",
              "      border-left-color: var(--fill-color);\n",
              "      border-top-color: var(--fill-color);\n",
              "    }\n",
              "    30% {\n",
              "      border-color: transparent;\n",
              "      border-left-color: var(--fill-color);\n",
              "      border-top-color: var(--fill-color);\n",
              "      border-right-color: var(--fill-color);\n",
              "    }\n",
              "    40% {\n",
              "      border-color: transparent;\n",
              "      border-right-color: var(--fill-color);\n",
              "      border-top-color: var(--fill-color);\n",
              "    }\n",
              "    60% {\n",
              "      border-color: transparent;\n",
              "      border-right-color: var(--fill-color);\n",
              "    }\n",
              "    80% {\n",
              "      border-color: transparent;\n",
              "      border-right-color: var(--fill-color);\n",
              "      border-bottom-color: var(--fill-color);\n",
              "    }\n",
              "    90% {\n",
              "      border-color: transparent;\n",
              "      border-bottom-color: var(--fill-color);\n",
              "    }\n",
              "  }\n",
              "</style>\n",
              "\n",
              "  <script>\n",
              "    async function quickchart(key) {\n",
              "      const quickchartButtonEl =\n",
              "        document.querySelector('#' + key + ' button');\n",
              "      quickchartButtonEl.disabled = true;  // To prevent multiple clicks.\n",
              "      quickchartButtonEl.classList.add('colab-df-spinner');\n",
              "      try {\n",
              "        const charts = await google.colab.kernel.invokeFunction(\n",
              "            'suggestCharts', [key], {});\n",
              "      } catch (error) {\n",
              "        console.error('Error during call to suggestCharts:', error);\n",
              "      }\n",
              "      quickchartButtonEl.classList.remove('colab-df-spinner');\n",
              "      quickchartButtonEl.classList.add('colab-df-quickchart-complete');\n",
              "    }\n",
              "    (() => {\n",
              "      let quickchartButtonEl =\n",
              "        document.querySelector('#df-fb047eb8-c849-498f-9a96-a14a5ec414aa button');\n",
              "      quickchartButtonEl.style.display =\n",
              "        google.colab.kernel.accessAllowed ? 'block' : 'none';\n",
              "    })();\n",
              "  </script>\n",
              "</div>\n",
              "\n",
              "    </div>\n",
              "  </div>\n"
            ]
          },
          "metadata": {},
          "execution_count": 2
        }
      ]
    },
    {
      "cell_type": "code",
      "source": [
        "df2 = df.copy(deep=True)\n",
        "scaler = MinMaxScaler()\n",
        "\n",
        "print(df2)\n",
        "print(df2.shape)"
      ],
      "metadata": {
        "colab": {
          "base_uri": "https://localhost:8080/"
        },
        "id": "D9bKdacAHc8d",
        "outputId": "57c52781-4847-45cf-be07-4af74d83fd00"
      },
      "execution_count": null,
      "outputs": [
        {
          "output_type": "stream",
          "name": "stdout",
          "text": [
            "                                 Open        High         Low       Close  \\\n",
            "Date                                                                        \n",
            "2018-01-02 00:00:00-05:00   20.799999   21.474001   20.733334   21.368668   \n",
            "2018-01-03 00:00:00-05:00   21.400000   21.683332   21.036667   21.150000   \n",
            "2018-01-04 00:00:00-05:00   20.858000   21.236668   20.378668   20.974667   \n",
            "2018-01-05 00:00:00-05:00   21.108000   21.149332   20.799999   21.105333   \n",
            "2018-01-08 00:00:00-05:00   21.066668   22.468000   21.033333   22.427334   \n",
            "...                               ...         ...         ...         ...   \n",
            "2023-12-22 00:00:00-05:00  256.760010  258.220001  251.369995  252.539993   \n",
            "2023-12-26 00:00:00-05:00  254.490005  257.970001  252.910004  256.609985   \n",
            "2023-12-27 00:00:00-05:00  258.350006  263.339996  257.519989  261.440002   \n",
            "2023-12-28 00:00:00-05:00  263.660004  265.130005  252.710007  253.179993   \n",
            "2023-12-29 00:00:00-05:00  255.100006  255.190002  247.429993  248.479996   \n",
            "\n",
            "                              Volume  Dividends  Stock Splits  \n",
            "Date                                                           \n",
            "2018-01-02 00:00:00-05:00   65283000        0.0           0.0  \n",
            "2018-01-03 00:00:00-05:00   67822500        0.0           0.0  \n",
            "2018-01-04 00:00:00-05:00  149194500        0.0           0.0  \n",
            "2018-01-05 00:00:00-05:00   68868000        0.0           0.0  \n",
            "2018-01-08 00:00:00-05:00  147891000        0.0           0.0  \n",
            "...                              ...        ...           ...  \n",
            "2023-12-22 00:00:00-05:00   93249800        0.0           0.0  \n",
            "2023-12-26 00:00:00-05:00   86892400        0.0           0.0  \n",
            "2023-12-27 00:00:00-05:00  106494400        0.0           0.0  \n",
            "2023-12-28 00:00:00-05:00  113619900        0.0           0.0  \n",
            "2023-12-29 00:00:00-05:00  100615300        0.0           0.0  \n",
            "\n",
            "[1509 rows x 7 columns]\n",
            "(1509, 7)\n"
          ]
        }
      ]
    },
    {
      "cell_type": "code",
      "source": [
        "df2['Close'] = scaler.fit_transform(df2['Close'].values.reshape(-1,1))\n",
        "data = df2[['Close']].values.reshape(-1,1)\n",
        "\n",
        "print(data)\n",
        "print(data.shape)"
      ],
      "metadata": {
        "colab": {
          "base_uri": "https://localhost:8080/"
        },
        "id": "QX6X95Y5Ht3z",
        "outputId": "07ed50d3-76b3-4884-e07d-b8c058d9f034"
      },
      "execution_count": null,
      "outputs": [
        {
          "output_type": "stream",
          "name": "stdout",
          "text": [
            "[[0.02370959]\n",
            " [0.02316023]\n",
            " [0.02271974]\n",
            " ...\n",
            " [0.6268453 ]\n",
            " [0.60609353]\n",
            " [0.59428564]]\n",
            "(1509, 1)\n"
          ]
        }
      ]
    },
    {
      "cell_type": "code",
      "source": [
        "seq_len = 11 # 시퀀스 길이 11로 설정, 10개의 이전 데이터를 이용해서 다음 값을 예측\n",
        "sequences = []\n",
        "\n",
        "for index in range(len(data) - seq_len + 1):\n",
        "    sequences.append(data[index : index+seq_len])\n",
        "sequences = np.array(sequences)\n",
        "\n",
        "x = sequences[:, :-1]\n",
        "y = sequences[:, -1]\n",
        "\n",
        "print(x)\n",
        "print(x.shape)\n",
        "print(y)\n",
        "print(y.shape)"
      ],
      "metadata": {
        "colab": {
          "base_uri": "https://localhost:8080/"
        },
        "id": "xZUuup2-H8LK",
        "outputId": "2b4c38d5-4885-49cb-d6c0-41ac3f2e570a"
      },
      "execution_count": null,
      "outputs": [
        {
          "output_type": "stream",
          "name": "stdout",
          "text": [
            "[[[0.02370959]\n",
            "  [0.02316023]\n",
            "  [0.02271974]\n",
            "  ...\n",
            "  [0.02662723]\n",
            "  [0.02633748]\n",
            "  [0.02698063]]\n",
            "\n",
            " [[0.02316023]\n",
            "  [0.02271974]\n",
            "  [0.02304801]\n",
            "  ...\n",
            "  [0.02633748]\n",
            "  [0.02698063]\n",
            "  [0.02816979]]\n",
            "\n",
            " [[0.02271974]\n",
            "  [0.02304801]\n",
            "  [0.0263693 ]\n",
            "  ...\n",
            "  [0.02698063]\n",
            "  [0.02816979]\n",
            "  [0.027736  ]]\n",
            "\n",
            " ...\n",
            "\n",
            " [[0.56546934]\n",
            "  [0.57119742]\n",
            "  [0.60074231]\n",
            "  ...\n",
            "  [0.6094098 ]\n",
            "  [0.60448564]\n",
            "  [0.61471076]]\n",
            "\n",
            " [[0.57119742]\n",
            "  [0.60074231]\n",
            "  [0.60689749]\n",
            "  ...\n",
            "  [0.60448564]\n",
            "  [0.61471076]\n",
            "  [0.6268453 ]]\n",
            "\n",
            " [[0.60074231]\n",
            "  [0.60689749]\n",
            "  [0.60333   ]\n",
            "  ...\n",
            "  [0.61471076]\n",
            "  [0.6268453 ]\n",
            "  [0.60609353]]]\n",
            "(1499, 10, 1)\n",
            "[[0.02816979]\n",
            " [0.027736  ]\n",
            " [0.02864881]\n",
            " ...\n",
            " [0.6268453 ]\n",
            " [0.60609353]\n",
            " [0.59428564]]\n",
            "(1499, 1)\n"
          ]
        }
      ]
    },
    {
      "cell_type": "code",
      "source": [
        "test = int(len(x) * 0.2)\n",
        "print(test)"
      ],
      "metadata": {
        "colab": {
          "base_uri": "https://localhost:8080/"
        },
        "id": "nn2R_gVsIZuZ",
        "outputId": "1560fbbc-4921-4972-e4d9-a78d3da42973"
      },
      "execution_count": null,
      "outputs": [
        {
          "output_type": "stream",
          "name": "stdout",
          "text": [
            "299\n"
          ]
        }
      ]
    },
    {
      "cell_type": "code",
      "source": [
        "x_train = x[:len(x)-test]\n",
        "y_train = y[:len(x)-test]\n",
        "\n",
        "x_test = x[len(x)-test: ]\n",
        "y_test = y[len(x)-test: ]\n",
        "\n",
        "print(x_train.shape)\n",
        "print(x_test.shape)\n",
        "\n",
        "print(y_train.shape)\n",
        "print(y_test.shape)"
      ],
      "metadata": {
        "colab": {
          "base_uri": "https://localhost:8080/"
        },
        "id": "NmooGyVXKffh",
        "outputId": "3ed1f1ff-66d4-4874-ef73-0096ce64b88b"
      },
      "execution_count": null,
      "outputs": [
        {
          "output_type": "stream",
          "name": "stdout",
          "text": [
            "(1200, 10, 1)\n",
            "(299, 10, 1)\n",
            "(1200, 1)\n",
            "(299, 1)\n"
          ]
        }
      ]
    },
    {
      "cell_type": "code",
      "source": [
        "x_train = torch.tensor(x_train).float()\n",
        "y_train = torch.tensor(y_train).float()\n",
        "\n",
        "x_test = torch.tensor(x_test).float()\n",
        "y_test = torch.tensor(y_test).float()\n",
        "\n",
        "print('Training Shape', x_train.shape, y_train.shape) # x(데이터개수(배치크기), 시퀀스길이, 입력하는 값의 차원)\n",
        "print('Testing Shape', x_test.shape, y_test.shape) # y(데이터개수(배치크기), 출력하는 값의 차원)"
      ],
      "metadata": {
        "colab": {
          "base_uri": "https://localhost:8080/"
        },
        "id": "DwuONDvgLUvZ",
        "outputId": "2702ab39-8f79-4f41-f2d7-3ee26b037b90"
      },
      "execution_count": null,
      "outputs": [
        {
          "output_type": "stream",
          "name": "stdout",
          "text": [
            "Training Shape torch.Size([1200, 10, 1]) torch.Size([1200, 1])\n",
            "Testing Shape torch.Size([299, 10, 1]) torch.Size([299, 1])\n"
          ]
        }
      ]
    },
    {
      "cell_type": "code",
      "source": [
        "class LSTM(nn.Module):\n",
        "  def __init__(self, num_classes, input_size, hidden_size, num_layers, seq_length):\n",
        "    super(LSTM, self).__init__()\n",
        "    self.num_classes = num_classes # 클래스의 개수\n",
        "    self.num_layers = num_layers # LSTM 계층의 개수\n",
        "    self.input_size = input_size # 입력 크기 / 훈련 데이터셋의 칼럼 개수를 의미\n",
        "    self.hidden_size = hidden_size # 은닉층의 뉴런 개수\n",
        "    self.seq_length = seq_length # 시퀀스 길이\n",
        "\n",
        "    self.lstm = nn.LSTM(input_size=input_size, hidden_size=hidden_size, num_layers=num_layers, batch_first=True)\n",
        "    self.fc1 = nn.Linear(hidden_size, 128) # 완전연결층\n",
        "    self.fc = nn.Linear(128, num_classes)\n",
        "    self.relu = nn.ReLU()\n",
        "\n",
        "  def forward(self, x):\n",
        "    h_0 = torch.zeros(self.num_layers, x.size(0), self.hidden_size) # 은닉상태 0으로 초기화\n",
        "    c_0 = torch.zeros(self.num_layers, x.size(0), self.hidden_size) # 셀상태 0으로 초기화\n",
        "    output, (hn, cn) = self.lstm(x, (h_0, c_0))\n",
        "    hn = hn.view(-1, self.hidden_size) # 완전연결층 적용을 위해 데이터의 형태 조정(1차원으로)\n",
        "    out = self.relu(hn)\n",
        "    out = self.fc1(out)\n",
        "    out = self.relu(out)\n",
        "    out = self.fc(out)\n",
        "    return out"
      ],
      "metadata": {
        "id": "tg6pWWTtMTho"
      },
      "execution_count": null,
      "outputs": []
    },
    {
      "cell_type": "code",
      "source": [
        "num_epochs = 1000\n",
        "learning_rate = 0.001\n",
        "\n",
        "input_size = 1 # 각 시간 단계에서 입력되는 특성의 개수\n",
        "hidden_size = 2 # 은닉층의 뉴런/유닛 개수\n",
        "num_layers = 1 # LSTM 계층의 개수\n",
        "seq_length = 10 # 시퀀스의 길이 / 각 입력 샘플이 10개의 시간 단계를 가지고 있음\n",
        "\n",
        "num_classes = 1 #모델이 예측해야하는 클래스의 개수 / 주가(종가) 데이터의 클래스의 개수는 1\n",
        "model = LSTM(num_classes, input_size, hidden_size, num_layers, seq_length)\n",
        "\n",
        "criterion = nn.MSELoss()\n",
        "optimizer = torch.optim.Adam(model.parameters(), lr=learning_rate)"
      ],
      "metadata": {
        "id": "r1GpVaOIPJH3"
      },
      "execution_count": null,
      "outputs": []
    },
    {
      "cell_type": "code",
      "source": [
        "for epoch in range(1, num_epochs+1):\n",
        "  outputs = model.forward(x_train)\n",
        "  optimizer.zero_grad()\n",
        "  loss = criterion(outputs, y_train)\n",
        "  loss.backward()\n",
        "  optimizer.step()\n",
        "\n",
        "  if epoch % 100 == 0:\n",
        "    print('Epoch : {} Loss : {}'.format(epoch, loss.item()))"
      ],
      "metadata": {
        "colab": {
          "base_uri": "https://localhost:8080/"
        },
        "id": "FCf6etGvQXws",
        "outputId": "e5b85b64-eb23-470b-ac58-7ce065befdd1"
      },
      "execution_count": null,
      "outputs": [
        {
          "output_type": "stream",
          "name": "stdout",
          "text": [
            "Epoch : 100 Loss : 0.08489584177732468\n",
            "Epoch : 200 Loss : 0.004051173571497202\n",
            "Epoch : 300 Loss : 0.0006538008456118405\n",
            "Epoch : 400 Loss : 0.0005249195382930338\n",
            "Epoch : 500 Loss : 0.0004980726516805589\n",
            "Epoch : 600 Loss : 0.0004837220476474613\n",
            "Epoch : 700 Loss : 0.0004728602943941951\n",
            "Epoch : 800 Loss : 0.00046481972094625235\n",
            "Epoch : 900 Loss : 0.0004575280472636223\n",
            "Epoch : 1000 Loss : 0.0004496480105444789\n"
          ]
        }
      ]
    },
    {
      "cell_type": "code",
      "source": [
        "predict = model(x_test)"
      ],
      "metadata": {
        "id": "4ytkkuClQg86"
      },
      "execution_count": null,
      "outputs": []
    },
    {
      "cell_type": "code",
      "source": [
        "predict_inverse = scaler.inverse_transform(predict.detach().numpy())\n",
        "actual_inverse = scaler.inverse_transform(y_test)\n",
        "\n",
        "print('MSE : ', mean_squared_error(actual_inverse, predict_inverse))\n",
        "print('RMSE : ', np.sqrt(mean_squared_error(actual_inverse, predict_inverse)))"
      ],
      "metadata": {
        "colab": {
          "base_uri": "https://localhost:8080/"
        },
        "id": "bTQ7LE3IQtCM",
        "outputId": "409680cb-1dbd-4494-d25d-da23c20a28b7"
      },
      "execution_count": null,
      "outputs": [
        {
          "output_type": "stream",
          "name": "stdout",
          "text": [
            "MSE :  88.04839118852453\n",
            "RMSE :  9.383410424175452\n"
          ]
        }
      ]
    },
    {
      "cell_type": "code",
      "source": [
        "plt.plot(actual_inverse, color='blue', label='actual')\n",
        "plt.plot(predict_inverse, color='red', label='predicct')\n",
        "plt.title(\"TSLA Time-Series LSTM Predict\")\n",
        "plt.legend()\n",
        "plt.show()"
      ],
      "metadata": {
        "colab": {
          "base_uri": "https://localhost:8080/",
          "height": 452
        },
        "id": "_NS7nmGzRRrI",
        "outputId": "4754311b-5757-4485-f184-bb24ebb0b7fb"
      },
      "execution_count": null,
      "outputs": [
        {
          "output_type": "display_data",
          "data": {
            "text/plain": [
              "<Figure size 640x480 with 1 Axes>"
            ],
            "image/png": "[encoded data removed]"
          },
          "metadata": {}
        }
      ]
    }
  ]
}